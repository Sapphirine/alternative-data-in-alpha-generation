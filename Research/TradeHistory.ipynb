{
 "cells": [
  {
   "cell_type": "code",
   "execution_count": 1,
   "metadata": {},
   "outputs": [],
   "source": [
    "import pandas as pd\n",
    "order_history=r\"/Users/ziyunchebn/Desktop/Big Data Analytics/Export complete order history.xlsx\""
   ]
  },
  {
   "cell_type": "code",
   "execution_count": 2,
   "metadata": {},
   "outputs": [],
   "source": [
    "order_history_df=pd.read_excel(order_history)"
   ]
  },
  {
   "cell_type": "code",
   "execution_count": 3,
   "metadata": {},
   "outputs": [],
   "source": [
    "order_history_df.dropna(inplace=True)"
   ]
  },
  {
   "cell_type": "code",
   "execution_count": 4,
   "metadata": {},
   "outputs": [],
   "source": [
    "order_history_small=order_history_df[['Date(UTC)','Type','AvgTrading Price']]"
   ]
  },
  {
   "cell_type": "code",
   "execution_count": 5,
   "metadata": {},
   "outputs": [
    {
     "name": "stderr",
     "output_type": "stream",
     "text": [
      "/Users/ziyunchebn/anaconda3/lib/python3.6/site-packages/ipykernel_launcher.py:2: SettingWithCopyWarning: \n",
      "A value is trying to be set on a copy of a slice from a DataFrame.\n",
      "Try using .loc[row_indexer,col_indexer] = value instead\n",
      "\n",
      "See the caveats in the documentation: https://pandas.pydata.org/pandas-docs/stable/user_guide/indexing.html#returning-a-view-versus-a-copy\n",
      "  \n"
     ]
    }
   ],
   "source": [
    "from datetime import timedelta\n",
    "order_history_small['Date(UTC)']=pd.to_datetime(order_history_small['Date(UTC)'])-timedelta(hours=4)"
   ]
  },
  {
   "cell_type": "code",
   "execution_count": 34,
   "metadata": {},
   "outputs": [
    {
     "data": {
      "text/html": [
       "<div>\n",
       "<style scoped>\n",
       "    .dataframe tbody tr th:only-of-type {\n",
       "        vertical-align: middle;\n",
       "    }\n",
       "\n",
       "    .dataframe tbody tr th {\n",
       "        vertical-align: top;\n",
       "    }\n",
       "\n",
       "    .dataframe thead th {\n",
       "        text-align: right;\n",
       "    }\n",
       "</style>\n",
       "<table border=\"1\" class=\"dataframe\">\n",
       "  <thead>\n",
       "    <tr style=\"text-align: right;\">\n",
       "      <th></th>\n",
       "      <th>Date(UTC)</th>\n",
       "      <th>Type</th>\n",
       "      <th>AvgTrading Price</th>\n",
       "    </tr>\n",
       "  </thead>\n",
       "  <tbody>\n",
       "    <tr>\n",
       "      <th>0</th>\n",
       "      <td>2020-05-11 07:00:29</td>\n",
       "      <td>SELL</td>\n",
       "      <td>8827.36</td>\n",
       "    </tr>\n",
       "    <tr>\n",
       "      <th>3</th>\n",
       "      <td>2020-05-11 06:00:26</td>\n",
       "      <td>BUY</td>\n",
       "      <td>8506.39</td>\n",
       "    </tr>\n",
       "    <tr>\n",
       "      <th>6</th>\n",
       "      <td>2020-05-11 04:00:34</td>\n",
       "      <td>SELL</td>\n",
       "      <td>8679.55</td>\n",
       "    </tr>\n",
       "    <tr>\n",
       "      <th>9</th>\n",
       "      <td>2020-05-11 03:00:30</td>\n",
       "      <td>SELL</td>\n",
       "      <td>8682.20</td>\n",
       "    </tr>\n",
       "    <tr>\n",
       "      <th>12</th>\n",
       "      <td>2020-05-11 02:00:28</td>\n",
       "      <td>SELL</td>\n",
       "      <td>8671.50</td>\n",
       "    </tr>\n",
       "    <tr>\n",
       "      <th>...</th>\n",
       "      <td>...</td>\n",
       "      <td>...</td>\n",
       "      <td>...</td>\n",
       "    </tr>\n",
       "    <tr>\n",
       "      <th>276</th>\n",
       "      <td>2020-05-06 20:51:08</td>\n",
       "      <td>SELL</td>\n",
       "      <td>9193.00</td>\n",
       "    </tr>\n",
       "    <tr>\n",
       "      <th>279</th>\n",
       "      <td>2020-05-06 15:42:58</td>\n",
       "      <td>BUY</td>\n",
       "      <td>9242.67</td>\n",
       "    </tr>\n",
       "    <tr>\n",
       "      <th>282</th>\n",
       "      <td>2020-05-06 15:41:53</td>\n",
       "      <td>SELL</td>\n",
       "      <td>9234.06</td>\n",
       "    </tr>\n",
       "    <tr>\n",
       "      <th>285</th>\n",
       "      <td>2020-05-06 14:44:44</td>\n",
       "      <td>SELL</td>\n",
       "      <td>9224.74</td>\n",
       "    </tr>\n",
       "    <tr>\n",
       "      <th>288</th>\n",
       "      <td>2020-05-06 12:57:36</td>\n",
       "      <td>SELL</td>\n",
       "      <td>9267.20</td>\n",
       "    </tr>\n",
       "  </tbody>\n",
       "</table>\n",
       "<p>96 rows × 3 columns</p>\n",
       "</div>"
      ],
      "text/plain": [
       "              Date(UTC)  Type AvgTrading Price\n",
       "0   2020-05-11 07:00:29  SELL          8827.36\n",
       "3   2020-05-11 06:00:26   BUY          8506.39\n",
       "6   2020-05-11 04:00:34  SELL          8679.55\n",
       "9   2020-05-11 03:00:30  SELL          8682.20\n",
       "12  2020-05-11 02:00:28  SELL          8671.50\n",
       "..                  ...   ...              ...\n",
       "276 2020-05-06 20:51:08  SELL          9193.00\n",
       "279 2020-05-06 15:42:58   BUY          9242.67\n",
       "282 2020-05-06 15:41:53  SELL          9234.06\n",
       "285 2020-05-06 14:44:44  SELL          9224.74\n",
       "288 2020-05-06 12:57:36  SELL          9267.20\n",
       "\n",
       "[96 rows x 3 columns]"
      ]
     },
     "execution_count": 34,
     "metadata": {},
     "output_type": "execute_result"
    }
   ],
   "source": [
    "order_history_small"
   ]
  },
  {
   "cell_type": "code",
   "execution_count": 7,
   "metadata": {},
   "outputs": [],
   "source": [
    "order_history_buy=order_history_small[order_history_small['Type']==\"BUY\"][['Date(UTC)','AvgTrading Price']]"
   ]
  },
  {
   "cell_type": "code",
   "execution_count": 8,
   "metadata": {},
   "outputs": [],
   "source": [
    "order_history_sell=order_history_small[order_history_small['Type']==\"SELL\"][['Date(UTC)','AvgTrading Price']]"
   ]
  },
  {
   "cell_type": "code",
   "execution_count": 9,
   "metadata": {},
   "outputs": [],
   "source": [
    "order_history_sell['Date(UTC)'].dt.tz"
   ]
  },
  {
   "cell_type": "code",
   "execution_count": 10,
   "metadata": {},
   "outputs": [
    {
     "data": {
      "text/plain": [
       "[Timestamp('2020-05-11 07:00:29'),\n",
       " Timestamp('2020-05-11 04:00:34'),\n",
       " Timestamp('2020-05-11 03:00:30'),\n",
       " Timestamp('2020-05-11 02:00:28'),\n",
       " Timestamp('2020-05-11 01:00:36'),\n",
       " Timestamp('2020-05-11 00:00:31'),\n",
       " Timestamp('2020-05-10 17:00:28'),\n",
       " Timestamp('2020-05-10 13:00:29'),\n",
       " Timestamp('2020-05-10 11:00:29'),\n",
       " Timestamp('2020-05-10 10:00:29'),\n",
       " Timestamp('2020-05-10 09:00:27'),\n",
       " Timestamp('2020-05-10 06:00:25'),\n",
       " Timestamp('2020-05-10 05:00:29'),\n",
       " Timestamp('2020-05-10 04:00:27'),\n",
       " Timestamp('2020-05-10 03:00:28'),\n",
       " Timestamp('2020-05-10 01:00:28'),\n",
       " Timestamp('2020-05-10 00:00:26'),\n",
       " Timestamp('2020-05-09 23:00:29'),\n",
       " Timestamp('2020-05-09 20:00:28'),\n",
       " Timestamp('2020-05-09 13:00:28'),\n",
       " Timestamp('2020-05-09 12:00:26'),\n",
       " Timestamp('2020-05-09 11:00:28'),\n",
       " Timestamp('2020-05-09 07:00:32'),\n",
       " Timestamp('2020-05-09 06:00:27'),\n",
       " Timestamp('2020-05-08 23:00:27'),\n",
       " Timestamp('2020-05-08 19:00:31'),\n",
       " Timestamp('2020-05-08 15:00:36'),\n",
       " Timestamp('2020-05-08 14:00:40'),\n",
       " Timestamp('2020-05-08 13:00:34'),\n",
       " Timestamp('2020-05-08 12:00:34'),\n",
       " Timestamp('2020-05-08 11:00:36'),\n",
       " Timestamp('2020-05-08 09:00:28'),\n",
       " Timestamp('2020-05-08 08:00:29'),\n",
       " Timestamp('2020-05-08 06:00:30'),\n",
       " Timestamp('2020-05-08 03:00:27'),\n",
       " Timestamp('2020-05-08 02:00:28'),\n",
       " Timestamp('2020-05-08 01:00:30'),\n",
       " Timestamp('2020-05-07 18:00:33'),\n",
       " Timestamp('2020-05-07 14:00:29'),\n",
       " Timestamp('2020-05-07 09:00:35'),\n",
       " Timestamp('2020-05-07 07:00:34'),\n",
       " Timestamp('2020-05-07 06:00:34'),\n",
       " Timestamp('2020-05-07 03:00:36'),\n",
       " Timestamp('2020-05-07 02:00:33'),\n",
       " Timestamp('2020-05-07 01:00:32'),\n",
       " Timestamp('2020-05-07 00:00:32'),\n",
       " Timestamp('2020-05-06 23:57:08'),\n",
       " Timestamp('2020-05-06 23:51:25'),\n",
       " Timestamp('2020-05-06 20:51:08'),\n",
       " Timestamp('2020-05-06 15:41:53'),\n",
       " Timestamp('2020-05-06 14:44:44'),\n",
       " Timestamp('2020-05-06 12:57:36')]"
      ]
     },
     "execution_count": 10,
     "metadata": {},
     "output_type": "execute_result"
    }
   ],
   "source": [
    "[item[0] for item in order_history_sell.values]"
   ]
  },
  {
   "cell_type": "code",
   "execution_count": 11,
   "metadata": {},
   "outputs": [
    {
     "data": {
      "text/plain": [
       "['8827.36',\n",
       " '8679.55',\n",
       " '8682.20',\n",
       " '8671.50',\n",
       " '8620.82',\n",
       " '8682.08',\n",
       " '8707.09',\n",
       " '8357.00',\n",
       " '8670.09',\n",
       " '8776.89',\n",
       " '8717.69',\n",
       " '8749.84',\n",
       " '8807.04',\n",
       " '8791.00',\n",
       " '8601.29',\n",
       " '8550.68',\n",
       " '8590.24',\n",
       " '8650.80',\n",
       " '9539.06',\n",
       " '9759.21',\n",
       " '9692.86',\n",
       " '9696.09',\n",
       " '9640.95',\n",
       " '9687.60',\n",
       " '9861.70',\n",
       " '9891.06',\n",
       " '9887.38',\n",
       " '9970.78',\n",
       " '9972.16',\n",
       " '9943.33',\n",
       " '9950.57',\n",
       " '9820.72',\n",
       " '9884.96',\n",
       " '9820.94',\n",
       " '9750.01',\n",
       " '9857.40',\n",
       " '9901.05',\n",
       " '9873.47',\n",
       " '9843.56',\n",
       " '9386.92',\n",
       " '9290.23',\n",
       " '9313.39',\n",
       " '9236.00',\n",
       " '9275.49',\n",
       " '9281.24',\n",
       " '9277.69',\n",
       " '9274.29',\n",
       " '9295.82',\n",
       " '9193.00',\n",
       " '9234.06',\n",
       " '9224.74',\n",
       " '9267.20']"
      ]
     },
     "execution_count": 11,
     "metadata": {},
     "output_type": "execute_result"
    }
   ],
   "source": [
    "[item[1] for item in order_history_sell.values]"
   ]
  },
  {
   "cell_type": "code",
   "execution_count": 12,
   "metadata": {},
   "outputs": [
    {
     "ename": "TypeError",
     "evalue": "Cannot convert tz-naive timestamps, use tz_localize to localize",
     "output_type": "error",
     "traceback": [
      "\u001b[0;31m---------------------------------------------------------------------------\u001b[0m",
      "\u001b[0;31mTypeError\u001b[0m                                 Traceback (most recent call last)",
      "\u001b[0;32m<ipython-input-12-f5a5d0106fff>\u001b[0m in \u001b[0;36m<module>\u001b[0;34m()\u001b[0m\n\u001b[0;32m----> 1\u001b[0;31m \u001b[0morder_history_sell\u001b[0m\u001b[0;34m.\u001b[0m\u001b[0mset_index\u001b[0m\u001b[0;34m(\u001b[0m\u001b[0;34m'Date(UTC)'\u001b[0m\u001b[0;34m)\u001b[0m\u001b[0;34m.\u001b[0m\u001b[0mtz_convert\u001b[0m\u001b[0;34m(\u001b[0m\u001b[0;32mNone\u001b[0m\u001b[0;34m)\u001b[0m\u001b[0;34m\u001b[0m\u001b[0;34m\u001b[0m\u001b[0m\n\u001b[0m",
      "\u001b[0;32m~/anaconda3/lib/python3.6/site-packages/pandas/core/generic.py\u001b[0m in \u001b[0;36mtz_convert\u001b[0;34m(self, tz, axis, level, copy)\u001b[0m\n\u001b[1;32m   9354\u001b[0m             \u001b[0;32mif\u001b[0m \u001b[0mlevel\u001b[0m \u001b[0;32mnot\u001b[0m \u001b[0;32min\u001b[0m \u001b[0;34m(\u001b[0m\u001b[0;32mNone\u001b[0m\u001b[0;34m,\u001b[0m \u001b[0;36m0\u001b[0m\u001b[0;34m,\u001b[0m \u001b[0max\u001b[0m\u001b[0;34m.\u001b[0m\u001b[0mname\u001b[0m\u001b[0;34m)\u001b[0m\u001b[0;34m:\u001b[0m\u001b[0;34m\u001b[0m\u001b[0;34m\u001b[0m\u001b[0m\n\u001b[1;32m   9355\u001b[0m                 \u001b[0;32mraise\u001b[0m \u001b[0mValueError\u001b[0m\u001b[0;34m(\u001b[0m\u001b[0;34mf\"The level {level} is not valid\"\u001b[0m\u001b[0;34m)\u001b[0m\u001b[0;34m\u001b[0m\u001b[0;34m\u001b[0m\u001b[0m\n\u001b[0;32m-> 9356\u001b[0;31m             \u001b[0max\u001b[0m \u001b[0;34m=\u001b[0m \u001b[0m_tz_convert\u001b[0m\u001b[0;34m(\u001b[0m\u001b[0max\u001b[0m\u001b[0;34m,\u001b[0m \u001b[0mtz\u001b[0m\u001b[0;34m)\u001b[0m\u001b[0;34m\u001b[0m\u001b[0;34m\u001b[0m\u001b[0m\n\u001b[0m\u001b[1;32m   9357\u001b[0m \u001b[0;34m\u001b[0m\u001b[0m\n\u001b[1;32m   9358\u001b[0m         \u001b[0mresult\u001b[0m \u001b[0;34m=\u001b[0m \u001b[0mself\u001b[0m\u001b[0;34m.\u001b[0m\u001b[0m_constructor\u001b[0m\u001b[0;34m(\u001b[0m\u001b[0mself\u001b[0m\u001b[0;34m.\u001b[0m\u001b[0m_data\u001b[0m\u001b[0;34m,\u001b[0m \u001b[0mcopy\u001b[0m\u001b[0;34m=\u001b[0m\u001b[0mcopy\u001b[0m\u001b[0;34m)\u001b[0m\u001b[0;34m\u001b[0m\u001b[0;34m\u001b[0m\u001b[0m\n",
      "\u001b[0;32m~/anaconda3/lib/python3.6/site-packages/pandas/core/generic.py\u001b[0m in \u001b[0;36m_tz_convert\u001b[0;34m(ax, tz)\u001b[0m\n\u001b[1;32m   9342\u001b[0m                     \u001b[0max\u001b[0m \u001b[0;34m=\u001b[0m \u001b[0mDatetimeIndex\u001b[0m\u001b[0;34m(\u001b[0m\u001b[0;34m[\u001b[0m\u001b[0;34m]\u001b[0m\u001b[0;34m,\u001b[0m \u001b[0mtz\u001b[0m\u001b[0;34m=\u001b[0m\u001b[0mtz\u001b[0m\u001b[0;34m)\u001b[0m\u001b[0;34m\u001b[0m\u001b[0;34m\u001b[0m\u001b[0m\n\u001b[1;32m   9343\u001b[0m             \u001b[0;32melse\u001b[0m\u001b[0;34m:\u001b[0m\u001b[0;34m\u001b[0m\u001b[0;34m\u001b[0m\u001b[0m\n\u001b[0;32m-> 9344\u001b[0;31m                 \u001b[0max\u001b[0m \u001b[0;34m=\u001b[0m \u001b[0max\u001b[0m\u001b[0;34m.\u001b[0m\u001b[0mtz_convert\u001b[0m\u001b[0;34m(\u001b[0m\u001b[0mtz\u001b[0m\u001b[0;34m)\u001b[0m\u001b[0;34m\u001b[0m\u001b[0;34m\u001b[0m\u001b[0m\n\u001b[0m\u001b[1;32m   9345\u001b[0m             \u001b[0;32mreturn\u001b[0m \u001b[0max\u001b[0m\u001b[0;34m\u001b[0m\u001b[0;34m\u001b[0m\u001b[0m\n\u001b[1;32m   9346\u001b[0m \u001b[0;34m\u001b[0m\u001b[0m\n",
      "\u001b[0;32m~/anaconda3/lib/python3.6/site-packages/pandas/core/accessor.py\u001b[0m in \u001b[0;36mf\u001b[0;34m(self, *args, **kwargs)\u001b[0m\n\u001b[1;32m     97\u001b[0m         \u001b[0;32mdef\u001b[0m \u001b[0m_create_delegator_method\u001b[0m\u001b[0;34m(\u001b[0m\u001b[0mname\u001b[0m\u001b[0;34m)\u001b[0m\u001b[0;34m:\u001b[0m\u001b[0;34m\u001b[0m\u001b[0;34m\u001b[0m\u001b[0m\n\u001b[1;32m     98\u001b[0m             \u001b[0;32mdef\u001b[0m \u001b[0mf\u001b[0m\u001b[0;34m(\u001b[0m\u001b[0mself\u001b[0m\u001b[0;34m,\u001b[0m \u001b[0;34m*\u001b[0m\u001b[0margs\u001b[0m\u001b[0;34m,\u001b[0m \u001b[0;34m**\u001b[0m\u001b[0mkwargs\u001b[0m\u001b[0;34m)\u001b[0m\u001b[0;34m:\u001b[0m\u001b[0;34m\u001b[0m\u001b[0;34m\u001b[0m\u001b[0m\n\u001b[0;32m---> 99\u001b[0;31m                 \u001b[0;32mreturn\u001b[0m \u001b[0mself\u001b[0m\u001b[0;34m.\u001b[0m\u001b[0m_delegate_method\u001b[0m\u001b[0;34m(\u001b[0m\u001b[0mname\u001b[0m\u001b[0;34m,\u001b[0m \u001b[0;34m*\u001b[0m\u001b[0margs\u001b[0m\u001b[0;34m,\u001b[0m \u001b[0;34m**\u001b[0m\u001b[0mkwargs\u001b[0m\u001b[0;34m)\u001b[0m\u001b[0;34m\u001b[0m\u001b[0;34m\u001b[0m\u001b[0m\n\u001b[0m\u001b[1;32m    100\u001b[0m \u001b[0;34m\u001b[0m\u001b[0m\n\u001b[1;32m    101\u001b[0m             \u001b[0mf\u001b[0m\u001b[0;34m.\u001b[0m\u001b[0m__name__\u001b[0m \u001b[0;34m=\u001b[0m \u001b[0mname\u001b[0m\u001b[0;34m\u001b[0m\u001b[0;34m\u001b[0m\u001b[0m\n",
      "\u001b[0;32m~/anaconda3/lib/python3.6/site-packages/pandas/core/indexes/datetimelike.py\u001b[0m in \u001b[0;36m_delegate_method\u001b[0;34m(self, name, *args, **kwargs)\u001b[0m\n\u001b[1;32m    908\u001b[0m \u001b[0;34m\u001b[0m\u001b[0m\n\u001b[1;32m    909\u001b[0m     \u001b[0;32mdef\u001b[0m \u001b[0m_delegate_method\u001b[0m\u001b[0;34m(\u001b[0m\u001b[0mself\u001b[0m\u001b[0;34m,\u001b[0m \u001b[0mname\u001b[0m\u001b[0;34m,\u001b[0m \u001b[0;34m*\u001b[0m\u001b[0margs\u001b[0m\u001b[0;34m,\u001b[0m \u001b[0;34m**\u001b[0m\u001b[0mkwargs\u001b[0m\u001b[0;34m)\u001b[0m\u001b[0;34m:\u001b[0m\u001b[0;34m\u001b[0m\u001b[0;34m\u001b[0m\u001b[0m\n\u001b[0;32m--> 910\u001b[0;31m         \u001b[0mresult\u001b[0m \u001b[0;34m=\u001b[0m \u001b[0moperator\u001b[0m\u001b[0;34m.\u001b[0m\u001b[0mmethodcaller\u001b[0m\u001b[0;34m(\u001b[0m\u001b[0mname\u001b[0m\u001b[0;34m,\u001b[0m \u001b[0;34m*\u001b[0m\u001b[0margs\u001b[0m\u001b[0;34m,\u001b[0m \u001b[0;34m**\u001b[0m\u001b[0mkwargs\u001b[0m\u001b[0;34m)\u001b[0m\u001b[0;34m(\u001b[0m\u001b[0mself\u001b[0m\u001b[0;34m.\u001b[0m\u001b[0m_data\u001b[0m\u001b[0;34m)\u001b[0m\u001b[0;34m\u001b[0m\u001b[0;34m\u001b[0m\u001b[0m\n\u001b[0m\u001b[1;32m    911\u001b[0m         \u001b[0;32mif\u001b[0m \u001b[0mname\u001b[0m \u001b[0;32mnot\u001b[0m \u001b[0;32min\u001b[0m \u001b[0mself\u001b[0m\u001b[0;34m.\u001b[0m\u001b[0m_raw_methods\u001b[0m\u001b[0;34m:\u001b[0m\u001b[0;34m\u001b[0m\u001b[0;34m\u001b[0m\u001b[0m\n\u001b[1;32m    912\u001b[0m             \u001b[0mresult\u001b[0m \u001b[0;34m=\u001b[0m \u001b[0mIndex\u001b[0m\u001b[0;34m(\u001b[0m\u001b[0mresult\u001b[0m\u001b[0;34m,\u001b[0m \u001b[0mname\u001b[0m\u001b[0;34m=\u001b[0m\u001b[0mself\u001b[0m\u001b[0;34m.\u001b[0m\u001b[0mname\u001b[0m\u001b[0;34m)\u001b[0m\u001b[0;34m\u001b[0m\u001b[0;34m\u001b[0m\u001b[0m\n",
      "\u001b[0;32m~/anaconda3/lib/python3.6/site-packages/pandas/core/arrays/datetimes.py\u001b[0m in \u001b[0;36mtz_convert\u001b[0;34m(self, tz)\u001b[0m\n\u001b[1;32m    816\u001b[0m             \u001b[0;31m# tz naive, use tz_localize\u001b[0m\u001b[0;34m\u001b[0m\u001b[0;34m\u001b[0m\u001b[0;34m\u001b[0m\u001b[0m\n\u001b[1;32m    817\u001b[0m             raise TypeError(\n\u001b[0;32m--> 818\u001b[0;31m                 \u001b[0;34m\"Cannot convert tz-naive timestamps, use tz_localize to localize\"\u001b[0m\u001b[0;34m\u001b[0m\u001b[0;34m\u001b[0m\u001b[0m\n\u001b[0m\u001b[1;32m    819\u001b[0m             )\n\u001b[1;32m    820\u001b[0m \u001b[0;34m\u001b[0m\u001b[0m\n",
      "\u001b[0;31mTypeError\u001b[0m: Cannot convert tz-naive timestamps, use tz_localize to localize"
     ]
    }
   ],
   "source": [
    "order_history_sell.set_index('Date(UTC)').tz_convert(None)"
   ]
  },
  {
   "cell_type": "code",
   "execution_count": 48,
   "metadata": {},
   "outputs": [
    {
     "data": {
      "text/plain": [
       "52"
      ]
     },
     "execution_count": 48,
     "metadata": {},
     "output_type": "execute_result"
    }
   ],
   "source": [
    "order_history_sell['AvgTrading Price'].astype(float).count()"
   ]
  },
  {
   "cell_type": "code",
   "execution_count": 27,
   "metadata": {},
   "outputs": [
    {
     "data": {
      "text/plain": [
       "9287.078653846153"
      ]
     },
     "execution_count": 27,
     "metadata": {},
     "output_type": "execute_result"
    }
   ],
   "source": [
    "order_history_sell['AvgTrading Price'].astype(float). "
   ]
  },
  {
   "cell_type": "code",
   "execution_count": 26,
   "metadata": {},
   "outputs": [
    {
     "data": {
      "text/plain": [
       "9466.788409090908"
      ]
     },
     "execution_count": 26,
     "metadata": {},
     "output_type": "execute_result"
    }
   ],
   "source": [
    "order_history_buy['AvgTrading Price'].astype(float).mean()"
   ]
  },
  {
   "cell_type": "code",
   "execution_count": 49,
   "metadata": {},
   "outputs": [
    {
     "data": {
      "text/plain": [
       "44"
      ]
     },
     "execution_count": 49,
     "metadata": {},
     "output_type": "execute_result"
    }
   ],
   "source": [
    "order_history_buy['AvgTrading Price'].astype(float).count()"
   ]
  },
  {
   "cell_type": "code",
   "execution_count": 38,
   "metadata": {},
   "outputs": [
    {
     "data": {
      "text/html": [
       "<div>\n",
       "<style scoped>\n",
       "    .dataframe tbody tr th:only-of-type {\n",
       "        vertical-align: middle;\n",
       "    }\n",
       "\n",
       "    .dataframe tbody tr th {\n",
       "        vertical-align: top;\n",
       "    }\n",
       "\n",
       "    .dataframe thead th {\n",
       "        text-align: right;\n",
       "    }\n",
       "</style>\n",
       "<table border=\"1\" class=\"dataframe\">\n",
       "  <thead>\n",
       "    <tr style=\"text-align: right;\">\n",
       "      <th></th>\n",
       "      <th>Date(UTC)</th>\n",
       "      <th>Type</th>\n",
       "      <th>AvgTrading Price</th>\n",
       "    </tr>\n",
       "  </thead>\n",
       "  <tbody>\n",
       "    <tr>\n",
       "      <th>0</th>\n",
       "      <td>2020-05-11 07:00:29</td>\n",
       "      <td>SELL</td>\n",
       "      <td>8827.36</td>\n",
       "    </tr>\n",
       "    <tr>\n",
       "      <th>3</th>\n",
       "      <td>2020-05-11 06:00:26</td>\n",
       "      <td>BUY</td>\n",
       "      <td>8506.39</td>\n",
       "    </tr>\n",
       "    <tr>\n",
       "      <th>6</th>\n",
       "      <td>2020-05-11 04:00:34</td>\n",
       "      <td>SELL</td>\n",
       "      <td>8679.55</td>\n",
       "    </tr>\n",
       "    <tr>\n",
       "      <th>9</th>\n",
       "      <td>2020-05-11 03:00:30</td>\n",
       "      <td>SELL</td>\n",
       "      <td>8682.20</td>\n",
       "    </tr>\n",
       "    <tr>\n",
       "      <th>12</th>\n",
       "      <td>2020-05-11 02:00:28</td>\n",
       "      <td>SELL</td>\n",
       "      <td>8671.50</td>\n",
       "    </tr>\n",
       "    <tr>\n",
       "      <th>...</th>\n",
       "      <td>...</td>\n",
       "      <td>...</td>\n",
       "      <td>...</td>\n",
       "    </tr>\n",
       "    <tr>\n",
       "      <th>276</th>\n",
       "      <td>2020-05-06 20:51:08</td>\n",
       "      <td>SELL</td>\n",
       "      <td>9193.00</td>\n",
       "    </tr>\n",
       "    <tr>\n",
       "      <th>279</th>\n",
       "      <td>2020-05-06 15:42:58</td>\n",
       "      <td>BUY</td>\n",
       "      <td>9242.67</td>\n",
       "    </tr>\n",
       "    <tr>\n",
       "      <th>282</th>\n",
       "      <td>2020-05-06 15:41:53</td>\n",
       "      <td>SELL</td>\n",
       "      <td>9234.06</td>\n",
       "    </tr>\n",
       "    <tr>\n",
       "      <th>285</th>\n",
       "      <td>2020-05-06 14:44:44</td>\n",
       "      <td>SELL</td>\n",
       "      <td>9224.74</td>\n",
       "    </tr>\n",
       "    <tr>\n",
       "      <th>288</th>\n",
       "      <td>2020-05-06 12:57:36</td>\n",
       "      <td>SELL</td>\n",
       "      <td>9267.20</td>\n",
       "    </tr>\n",
       "  </tbody>\n",
       "</table>\n",
       "<p>96 rows × 3 columns</p>\n",
       "</div>"
      ],
      "text/plain": [
       "              Date(UTC)  Type AvgTrading Price\n",
       "0   2020-05-11 07:00:29  SELL          8827.36\n",
       "3   2020-05-11 06:00:26   BUY          8506.39\n",
       "6   2020-05-11 04:00:34  SELL          8679.55\n",
       "9   2020-05-11 03:00:30  SELL          8682.20\n",
       "12  2020-05-11 02:00:28  SELL          8671.50\n",
       "..                  ...   ...              ...\n",
       "276 2020-05-06 20:51:08  SELL          9193.00\n",
       "279 2020-05-06 15:42:58   BUY          9242.67\n",
       "282 2020-05-06 15:41:53  SELL          9234.06\n",
       "285 2020-05-06 14:44:44  SELL          9224.74\n",
       "288 2020-05-06 12:57:36  SELL          9267.20\n",
       "\n",
       "[96 rows x 3 columns]"
      ]
     },
     "execution_count": 38,
     "metadata": {},
     "output_type": "execute_result"
    }
   ],
   "source": [
    "order_history_small"
   ]
  },
  {
   "cell_type": "code",
   "execution_count": 41,
   "metadata": {},
   "outputs": [],
   "source": [
    "order_history_np=order_history_small.sort_values(by='Date(UTC)').values"
   ]
  },
  {
   "cell_type": "code",
   "execution_count": 42,
   "metadata": {},
   "outputs": [
    {
     "data": {
      "text/plain": [
       "array([[Timestamp('2020-05-06 12:57:36'), 'SELL', '9267.20'],\n",
       "       [Timestamp('2020-05-06 14:44:44'), 'SELL', '9224.74'],\n",
       "       [Timestamp('2020-05-06 15:41:53'), 'SELL', '9234.06'],\n",
       "       [Timestamp('2020-05-06 15:42:58'), 'BUY', '9242.67'],\n",
       "       [Timestamp('2020-05-06 20:51:08'), 'SELL', '9193.00'],\n",
       "       [Timestamp('2020-05-06 23:51:25'), 'SELL', '9295.82'],\n",
       "       [Timestamp('2020-05-06 23:57:08'), 'SELL', '9274.29'],\n",
       "       [Timestamp('2020-05-07 00:00:32'), 'SELL', '9277.69'],\n",
       "       [Timestamp('2020-05-07 01:00:32'), 'SELL', '9281.24'],\n",
       "       [Timestamp('2020-05-07 02:00:33'), 'SELL', '9275.49'],\n",
       "       [Timestamp('2020-05-07 03:00:36'), 'SELL', '9236.00'],\n",
       "       [Timestamp('2020-05-07 04:00:34'), 'BUY', '9299.48'],\n",
       "       [Timestamp('2020-05-07 05:00:37'), 'BUY', '9323.99'],\n",
       "       [Timestamp('2020-05-07 06:00:34'), 'SELL', '9313.39'],\n",
       "       [Timestamp('2020-05-07 07:00:34'), 'SELL', '9290.23'],\n",
       "       [Timestamp('2020-05-07 08:00:40'), 'BUY', '9287.25'],\n",
       "       [Timestamp('2020-05-07 09:00:35'), 'SELL', '9386.92'],\n",
       "       [Timestamp('2020-05-07 13:00:36'), 'BUY', '9663.96'],\n",
       "       [Timestamp('2020-05-07 14:00:29'), 'SELL', '9843.56'],\n",
       "       [Timestamp('2020-05-07 16:00:31'), 'BUY', '9883.98'],\n",
       "       [Timestamp('2020-05-07 17:00:29'), 'BUY', '9804.64'],\n",
       "       [Timestamp('2020-05-07 18:00:33'), 'SELL', '9873.47'],\n",
       "       [Timestamp('2020-05-07 19:00:31'), 'BUY', '9905.15'],\n",
       "       [Timestamp('2020-05-07 20:00:32'), 'BUY', '9997.91'],\n",
       "       [Timestamp('2020-05-07 21:00:34'), 'BUY', '10021.41'],\n",
       "       [Timestamp('2020-05-07 22:00:27'), 'BUY', '9987.96'],\n",
       "       [Timestamp('2020-05-07 23:00:36'), 'BUY', '9897.01'],\n",
       "       [Timestamp('2020-05-08 00:00:33'), 'BUY', '9924.93'],\n",
       "       [Timestamp('2020-05-08 01:00:30'), 'SELL', '9901.05'],\n",
       "       [Timestamp('2020-05-08 02:00:28'), 'SELL', '9857.40'],\n",
       "       [Timestamp('2020-05-08 03:00:27'), 'SELL', '9750.01'],\n",
       "       [Timestamp('2020-05-08 04:00:29'), 'BUY', '9815.00'],\n",
       "       [Timestamp('2020-05-08 05:00:29'), 'BUY', '9847.77'],\n",
       "       [Timestamp('2020-05-08 06:00:30'), 'SELL', '9820.94'],\n",
       "       [Timestamp('2020-05-08 07:00:30'), 'BUY', '9933.21'],\n",
       "       [Timestamp('2020-05-08 08:00:29'), 'SELL', '9884.96'],\n",
       "       [Timestamp('2020-05-08 09:00:28'), 'SELL', '9820.72'],\n",
       "       [Timestamp('2020-05-08 10:00:43'), 'BUY', '9883.09'],\n",
       "       [Timestamp('2020-05-08 11:00:36'), 'SELL', '9950.57'],\n",
       "       [Timestamp('2020-05-08 12:00:34'), 'SELL', '9943.33'],\n",
       "       [Timestamp('2020-05-08 13:00:34'), 'SELL', '9972.16'],\n",
       "       [Timestamp('2020-05-08 14:00:40'), 'SELL', '9970.78'],\n",
       "       [Timestamp('2020-05-08 15:00:36'), 'SELL', '9887.38'],\n",
       "       [Timestamp('2020-05-08 18:00:33'), 'BUY', '10000.00'],\n",
       "       [Timestamp('2020-05-08 19:00:31'), 'SELL', '9891.06'],\n",
       "       [Timestamp('2020-05-08 20:00:32'), 'BUY', '9791.90'],\n",
       "       [Timestamp('2020-05-08 21:00:29'), 'BUY', '9872.09'],\n",
       "       [Timestamp('2020-05-08 22:00:28'), 'BUY', '9864.69'],\n",
       "       [Timestamp('2020-05-08 23:00:27'), 'SELL', '9861.70'],\n",
       "       [Timestamp('2020-05-09 00:00:31'), 'BUY', '9875.56'],\n",
       "       [Timestamp('2020-05-09 01:00:29'), 'BUY', '9824.29'],\n",
       "       [Timestamp('2020-05-09 02:00:33'), 'BUY', '9831.89'],\n",
       "       [Timestamp('2020-05-09 03:00:29'), 'BUY', '9669.02'],\n",
       "       [Timestamp('2020-05-09 04:00:28'), 'BUY', '9613.84'],\n",
       "       [Timestamp('2020-05-09 05:00:25'), 'BUY', '9677.01'],\n",
       "       [Timestamp('2020-05-09 06:00:27'), 'SELL', '9687.60'],\n",
       "       [Timestamp('2020-05-09 07:00:32'), 'SELL', '9640.95'],\n",
       "       [Timestamp('2020-05-09 08:00:30'), 'BUY', '9619.28'],\n",
       "       [Timestamp('2020-05-09 09:00:29'), 'BUY', '9660.82'],\n",
       "       [Timestamp('2020-05-09 11:00:28'), 'SELL', '9696.09'],\n",
       "       [Timestamp('2020-05-09 12:00:26'), 'SELL', '9692.86'],\n",
       "       [Timestamp('2020-05-09 13:00:28'), 'SELL', '9759.21'],\n",
       "       [Timestamp('2020-05-09 14:00:27'), 'BUY', '9773.28'],\n",
       "       [Timestamp('2020-05-09 15:00:28'), 'BUY', '9739.60'],\n",
       "       [Timestamp('2020-05-09 16:00:28'), 'BUY', '9749.00'],\n",
       "       [Timestamp('2020-05-09 20:00:28'), 'SELL', '9539.06'],\n",
       "       [Timestamp('2020-05-09 21:00:28'), 'BUY', '8660.34'],\n",
       "       [Timestamp('2020-05-09 23:00:29'), 'SELL', '8650.80'],\n",
       "       [Timestamp('2020-05-10 00:00:26'), 'SELL', '8590.24'],\n",
       "       [Timestamp('2020-05-10 01:00:28'), 'SELL', '8550.68'],\n",
       "       [Timestamp('2020-05-10 02:00:25'), 'BUY', '8620.49'],\n",
       "       [Timestamp('2020-05-10 03:00:28'), 'SELL', '8601.29'],\n",
       "       [Timestamp('2020-05-10 04:00:27'), 'SELL', '8791.00'],\n",
       "       [Timestamp('2020-05-10 05:00:29'), 'SELL', '8807.04'],\n",
       "       [Timestamp('2020-05-10 06:00:25'), 'SELL', '8749.84'],\n",
       "       [Timestamp('2020-05-10 07:00:27'), 'BUY', '8814.77'],\n",
       "       [Timestamp('2020-05-10 08:00:28'), 'BUY', '8728.32'],\n",
       "       [Timestamp('2020-05-10 09:00:27'), 'SELL', '8717.69'],\n",
       "       [Timestamp('2020-05-10 10:00:29'), 'SELL', '8776.89'],\n",
       "       [Timestamp('2020-05-10 11:00:29'), 'SELL', '8670.09'],\n",
       "       [Timestamp('2020-05-10 12:00:27'), 'BUY', '8632.31'],\n",
       "       [Timestamp('2020-05-10 13:00:29'), 'SELL', '8357.00'],\n",
       "       [Timestamp('2020-05-10 16:00:25'), 'BUY', '8529.51'],\n",
       "       [Timestamp('2020-05-10 17:00:28'), 'SELL', '8707.09'],\n",
       "       [Timestamp('2020-05-10 19:00:28'), 'BUY', '8791.29'],\n",
       "       [Timestamp('2020-05-10 20:00:29'), 'BUY', '8737.67'],\n",
       "       [Timestamp('2020-05-10 21:00:27'), 'BUY', '8774.68'],\n",
       "       [Timestamp('2020-05-10 22:00:26'), 'BUY', '8715.19'],\n",
       "       [Timestamp('2020-05-10 23:00:29'), 'BUY', '8746.05'],\n",
       "       [Timestamp('2020-05-11 00:00:31'), 'SELL', '8682.08'],\n",
       "       [Timestamp('2020-05-11 01:00:36'), 'SELL', '8620.82'],\n",
       "       [Timestamp('2020-05-11 02:00:28'), 'SELL', '8671.50'],\n",
       "       [Timestamp('2020-05-11 03:00:30'), 'SELL', '8682.20'],\n",
       "       [Timestamp('2020-05-11 04:00:34'), 'SELL', '8679.55'],\n",
       "       [Timestamp('2020-05-11 06:00:26'), 'BUY', '8506.39'],\n",
       "       [Timestamp('2020-05-11 07:00:29'), 'SELL', '8827.36']],\n",
       "      dtype=object)"
      ]
     },
     "execution_count": 42,
     "metadata": {},
     "output_type": "execute_result"
    }
   ],
   "source": [
    "order_history_np"
   ]
  },
  {
   "cell_type": "code",
   "execution_count": 44,
   "metadata": {},
   "outputs": [
    {
     "name": "stdout",
     "output_type": "stream",
     "text": [
      "0\n",
      "1\n",
      "1\n",
      "1\n",
      "1\n",
      "1\n",
      "2\n",
      "2\n",
      "2\n",
      "3\n",
      "4\n",
      "4\n",
      "5\n",
      "5\n",
      "6\n",
      "7\n",
      "8\n",
      "8\n",
      "9\n",
      "9\n",
      "9\n",
      "10\n",
      "10\n",
      "11\n",
      "12\n",
      "12\n",
      "12\n",
      "13\n",
      "13\n",
      "14\n",
      "15\n",
      "15\n",
      "16\n",
      "16\n",
      "16\n",
      "16\n",
      "17\n",
      "17\n",
      "18\n",
      "19\n",
      "19\n",
      "20\n",
      "21\n",
      "21\n",
      "21\n",
      "22\n",
      "23\n",
      "23\n",
      "23\n",
      "23\n",
      "23\n",
      "24\n",
      "24\n",
      "24\n",
      "25\n",
      "26\n",
      "27\n",
      "28\n",
      "29\n",
      "30\n",
      "31\n",
      "31\n",
      "31\n",
      "31\n",
      "32\n",
      "32\n",
      "33\n",
      "33\n",
      "34\n",
      "35\n",
      "35\n",
      "35\n",
      "35\n",
      "35\n",
      "36\n",
      "36\n",
      "36\n",
      "36\n",
      "36\n",
      "37\n",
      "38\n",
      "38\n",
      "38\n",
      "39\n",
      "39\n",
      "39\n",
      "40\n",
      "40\n",
      "41\n",
      "41\n",
      "42\n",
      "42\n",
      "42\n",
      "43\n",
      "44\n",
      "45\n"
     ]
    }
   ],
   "source": [
    "price_T=0\n",
    "direction_T=0\n",
    "correction_count=0\n",
    "\n",
    "for row in order_history_np:\n",
    "    \n",
    "    price_T_1=price_T\n",
    "    direction_T_1=direction_T\n",
    "    \n",
    "    price_T=row[2]\n",
    "    direction_T=row[1]\n",
    "    \n",
    "    if direction_T_1 == 'SELL':\n",
    "        if float(price_T)< float(price_T_1):\n",
    "            correction_count=correction_count+1\n",
    "    elif direction_T_1 == 'BUY':\n",
    "        if float(price_T)> float(price_T_1):\n",
    "            correction_count=correction_count+1\n",
    "    print(correction_count)\n",
    "\n",
    "    \n",
    "        "
   ]
  },
  {
   "cell_type": "code",
   "execution_count": 45,
   "metadata": {},
   "outputs": [
    {
     "data": {
      "text/plain": [
       "-0.047462016574585646"
      ]
     },
     "execution_count": 45,
     "metadata": {},
     "output_type": "execute_result"
    }
   ],
   "source": [
    "(8827.36-9267.20)/9267.20"
   ]
  },
  {
   "cell_type": "code",
   "execution_count": 46,
   "metadata": {},
   "outputs": [
    {
     "data": {
      "text/plain": [
       "0.00044444444444444447"
      ]
     },
     "execution_count": 46,
     "metadata": {},
     "output_type": "execute_result"
    }
   ],
   "source": [
    ".02/45"
   ]
  },
  {
   "cell_type": "code",
   "execution_count": 47,
   "metadata": {},
   "outputs": [
    {
     "data": {
      "text/plain": [
       "0.46875"
      ]
     },
     "execution_count": 47,
     "metadata": {},
     "output_type": "execute_result"
    }
   ],
   "source": [
    "45/96"
   ]
  },
  {
   "cell_type": "code",
   "execution_count": null,
   "metadata": {},
   "outputs": [],
   "source": []
  }
 ],
 "metadata": {
  "kernelspec": {
   "display_name": "Python 3",
   "language": "python",
   "name": "python3"
  },
  "language_info": {
   "codemirror_mode": {
    "name": "ipython",
    "version": 3
   },
   "file_extension": ".py",
   "mimetype": "text/x-python",
   "name": "python",
   "nbconvert_exporter": "python",
   "pygments_lexer": "ipython3",
   "version": "3.6.8"
  }
 },
 "nbformat": 4,
 "nbformat_minor": 2
}
